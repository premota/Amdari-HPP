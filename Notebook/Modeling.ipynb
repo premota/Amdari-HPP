{
 "cells": [
  {
   "cell_type": "code",
   "execution_count": 3,
   "metadata": {},
   "outputs": [],
   "source": [
    "import pandas as pd\n",
    "import numpy as np\n",
    "import seaborn as sns\n",
    "import matplotlib.pyplot as plt\n",
    "import sklearn\n",
    "import os\n",
    "import warnings\n",
    "warnings.filterwarnings(\"ignore\")"
   ]
  },
  {
   "cell_type": "code",
   "execution_count": 4,
   "metadata": {},
   "outputs": [],
   "source": [
    "data_path = os.path.join(os.path.dirname(os.getcwd()), \"Data\", \"features.csv\")\n",
    "data = pd.read_csv(data_path)"
   ]
  },
  {
   "cell_type": "code",
   "execution_count": 5,
   "metadata": {},
   "outputs": [
    {
     "data": {
      "text/html": [
       "<div>\n",
       "<style scoped>\n",
       "    .dataframe tbody tr th:only-of-type {\n",
       "        vertical-align: middle;\n",
       "    }\n",
       "\n",
       "    .dataframe tbody tr th {\n",
       "        vertical-align: top;\n",
       "    }\n",
       "\n",
       "    .dataframe thead th {\n",
       "        text-align: right;\n",
       "    }\n",
       "</style>\n",
       "<table border=\"1\" class=\"dataframe\">\n",
       "  <thead>\n",
       "    <tr style=\"text-align: right;\">\n",
       "      <th></th>\n",
       "      <th>housing_median_age</th>\n",
       "      <th>population</th>\n",
       "      <th>median_income</th>\n",
       "      <th>ocean_proximity</th>\n",
       "      <th>median_house_value</th>\n",
       "      <th>population_per_households</th>\n",
       "      <th>rooms_per_household</th>\n",
       "      <th>bed_rooms_per_household</th>\n",
       "      <th>population_per_bedrooms</th>\n",
       "      <th>rooms_per_bedrooms</th>\n",
       "    </tr>\n",
       "  </thead>\n",
       "  <tbody>\n",
       "    <tr>\n",
       "      <th>0</th>\n",
       "      <td>41</td>\n",
       "      <td>322.0</td>\n",
       "      <td>8.3252</td>\n",
       "      <td>Coastal</td>\n",
       "      <td>452600</td>\n",
       "      <td>2.555556</td>\n",
       "      <td>6.984127</td>\n",
       "      <td>1.023810</td>\n",
       "      <td>2.496124</td>\n",
       "      <td>6.821705</td>\n",
       "    </tr>\n",
       "    <tr>\n",
       "      <th>1</th>\n",
       "      <td>21</td>\n",
       "      <td>2401.0</td>\n",
       "      <td>8.3014</td>\n",
       "      <td>Coastal</td>\n",
       "      <td>358500</td>\n",
       "      <td>2.109842</td>\n",
       "      <td>6.238137</td>\n",
       "      <td>0.971880</td>\n",
       "      <td>2.170886</td>\n",
       "      <td>6.418626</td>\n",
       "    </tr>\n",
       "    <tr>\n",
       "      <th>2</th>\n",
       "      <td>52</td>\n",
       "      <td>496.0</td>\n",
       "      <td>7.2574</td>\n",
       "      <td>Coastal</td>\n",
       "      <td>352100</td>\n",
       "      <td>2.802260</td>\n",
       "      <td>8.288136</td>\n",
       "      <td>1.073446</td>\n",
       "      <td>2.610526</td>\n",
       "      <td>7.721053</td>\n",
       "    </tr>\n",
       "    <tr>\n",
       "      <th>3</th>\n",
       "      <td>52</td>\n",
       "      <td>558.0</td>\n",
       "      <td>5.6431</td>\n",
       "      <td>Coastal</td>\n",
       "      <td>341300</td>\n",
       "      <td>2.547945</td>\n",
       "      <td>5.817352</td>\n",
       "      <td>1.073059</td>\n",
       "      <td>2.374468</td>\n",
       "      <td>5.421277</td>\n",
       "    </tr>\n",
       "    <tr>\n",
       "      <th>4</th>\n",
       "      <td>52</td>\n",
       "      <td>565.0</td>\n",
       "      <td>3.8462</td>\n",
       "      <td>Coastal</td>\n",
       "      <td>342200</td>\n",
       "      <td>2.181467</td>\n",
       "      <td>6.281853</td>\n",
       "      <td>1.081081</td>\n",
       "      <td>2.017857</td>\n",
       "      <td>5.810714</td>\n",
       "    </tr>\n",
       "  </tbody>\n",
       "</table>\n",
       "</div>"
      ],
      "text/plain": [
       "   housing_median_age  population  median_income ocean_proximity  \\\n",
       "0                  41       322.0         8.3252         Coastal   \n",
       "1                  21      2401.0         8.3014         Coastal   \n",
       "2                  52       496.0         7.2574         Coastal   \n",
       "3                  52       558.0         5.6431         Coastal   \n",
       "4                  52       565.0         3.8462         Coastal   \n",
       "\n",
       "   median_house_value  population_per_households  rooms_per_household  \\\n",
       "0              452600                   2.555556             6.984127   \n",
       "1              358500                   2.109842             6.238137   \n",
       "2              352100                   2.802260             8.288136   \n",
       "3              341300                   2.547945             5.817352   \n",
       "4              342200                   2.181467             6.281853   \n",
       "\n",
       "   bed_rooms_per_household  population_per_bedrooms  rooms_per_bedrooms  \n",
       "0                 1.023810                 2.496124            6.821705  \n",
       "1                 0.971880                 2.170886            6.418626  \n",
       "2                 1.073446                 2.610526            7.721053  \n",
       "3                 1.073059                 2.374468            5.421277  \n",
       "4                 1.081081                 2.017857            5.810714  "
      ]
     },
     "execution_count": 5,
     "metadata": {},
     "output_type": "execute_result"
    }
   ],
   "source": [
    "data.head()"
   ]
  },
  {
   "cell_type": "code",
   "execution_count": 6,
   "metadata": {},
   "outputs": [
    {
     "data": {
      "text/plain": [
       "(20640, 10)"
      ]
     },
     "execution_count": 6,
     "metadata": {},
     "output_type": "execute_result"
    }
   ],
   "source": [
    "data.shape"
   ]
  },
  {
   "cell_type": "markdown",
   "metadata": {},
   "source": [
    "Transform features"
   ]
  },
  {
   "cell_type": "code",
   "execution_count": 7,
   "metadata": {},
   "outputs": [],
   "source": [
    "from sklearn.preprocessing import StandardScaler, OneHotEncoder\n",
    "from sklearn.compose import ColumnTransformer\n",
    "from sklearn.decomposition import PCA"
   ]
  },
  {
   "cell_type": "code",
   "execution_count": 13,
   "metadata": {},
   "outputs": [],
   "source": [
    "def Tranform_features(dataframe, target):\n",
    "    df = dataframe.drop([target], axis =1)\n",
    "\n",
    "    # select numerical and categorical features\n",
    "    numerical_features = df.select_dtypes(exclude = 'object').columns\n",
    "    categorical_features = df.select_dtypes(include = 'object').columns\n",
    "\n",
    "    # define transfromers\n",
    "    numerical_transformer = StandardScaler()\n",
    "    categorical_transformer = OneHotEncoder(drop = 'if_binary')\n",
    "\n",
    "    #create pipeline\n",
    "    pipeline = ColumnTransformer(\n",
    "        [\n",
    "        (\"Standard scaler\", numerical_transformer, numerical_features),\n",
    "        (\"OneHotEncoder\", categorical_transformer, categorical_features)\n",
    "        ]\n",
    "    )\n",
    "\n",
    "    # apply transformation on the data\n",
    "    array = pipeline.fit_transform(df)\n",
    "\n",
    "    #convert to dataframe\n",
    "    transfomed_df  =pd.DataFrame(array)\n",
    "\n",
    "    #merge target feature\n",
    "    transfomed_df[target] = dataframe[target]\n",
    "\n",
    "    return transfomed_df"
   ]
  },
  {
   "cell_type": "code",
   "execution_count": 14,
   "metadata": {},
   "outputs": [],
   "source": [
    "transformed_df = Tranform_features(data, \"median_house_value\")"
   ]
  },
  {
   "cell_type": "code",
   "execution_count": 15,
   "metadata": {},
   "outputs": [
    {
     "data": {
      "text/html": [
       "<div>\n",
       "<style scoped>\n",
       "    .dataframe tbody tr th:only-of-type {\n",
       "        vertical-align: middle;\n",
       "    }\n",
       "\n",
       "    .dataframe tbody tr th {\n",
       "        vertical-align: top;\n",
       "    }\n",
       "\n",
       "    .dataframe thead th {\n",
       "        text-align: right;\n",
       "    }\n",
       "</style>\n",
       "<table border=\"1\" class=\"dataframe\">\n",
       "  <thead>\n",
       "    <tr style=\"text-align: right;\">\n",
       "      <th></th>\n",
       "      <th>0</th>\n",
       "      <th>1</th>\n",
       "      <th>2</th>\n",
       "      <th>3</th>\n",
       "      <th>4</th>\n",
       "      <th>5</th>\n",
       "      <th>6</th>\n",
       "      <th>7</th>\n",
       "      <th>8</th>\n",
       "      <th>median_house_value</th>\n",
       "    </tr>\n",
       "  </thead>\n",
       "  <tbody>\n",
       "    <tr>\n",
       "      <th>0</th>\n",
       "      <td>0.982143</td>\n",
       "      <td>-1.175264</td>\n",
       "      <td>2.612122</td>\n",
       "      <td>-0.065232</td>\n",
       "      <td>0.636043</td>\n",
       "      <td>-0.148062</td>\n",
       "      <td>-0.049307</td>\n",
       "      <td>1.503619</td>\n",
       "      <td>0.0</td>\n",
       "      <td>452600</td>\n",
       "    </tr>\n",
       "    <tr>\n",
       "      <th>1</th>\n",
       "      <td>-0.607019</td>\n",
       "      <td>1.119959</td>\n",
       "      <td>2.598308</td>\n",
       "      <td>-0.126180</td>\n",
       "      <td>0.332458</td>\n",
       "      <td>-0.248375</td>\n",
       "      <td>-0.091709</td>\n",
       "      <td>1.173069</td>\n",
       "      <td>0.0</td>\n",
       "      <td>358500</td>\n",
       "    </tr>\n",
       "    <tr>\n",
       "      <th>2</th>\n",
       "      <td>1.856182</td>\n",
       "      <td>-0.983167</td>\n",
       "      <td>1.992344</td>\n",
       "      <td>-0.031497</td>\n",
       "      <td>1.166718</td>\n",
       "      <td>-0.052177</td>\n",
       "      <td>-0.034393</td>\n",
       "      <td>2.241139</td>\n",
       "      <td>0.0</td>\n",
       "      <td>352100</td>\n",
       "    </tr>\n",
       "    <tr>\n",
       "      <th>3</th>\n",
       "      <td>1.856182</td>\n",
       "      <td>-0.914719</td>\n",
       "      <td>1.055362</td>\n",
       "      <td>-0.066272</td>\n",
       "      <td>0.161217</td>\n",
       "      <td>-0.052924</td>\n",
       "      <td>-0.065168</td>\n",
       "      <td>0.355181</td>\n",
       "      <td>0.0</td>\n",
       "      <td>341300</td>\n",
       "    </tr>\n",
       "    <tr>\n",
       "      <th>4</th>\n",
       "      <td>1.856182</td>\n",
       "      <td>-0.906991</td>\n",
       "      <td>0.012395</td>\n",
       "      <td>-0.116386</td>\n",
       "      <td>0.350248</td>\n",
       "      <td>-0.037428</td>\n",
       "      <td>-0.111659</td>\n",
       "      <td>0.674544</td>\n",
       "      <td>0.0</td>\n",
       "      <td>342200</td>\n",
       "    </tr>\n",
       "  </tbody>\n",
       "</table>\n",
       "</div>"
      ],
      "text/plain": [
       "          0         1         2         3         4         5         6  \\\n",
       "0  0.982143 -1.175264  2.612122 -0.065232  0.636043 -0.148062 -0.049307   \n",
       "1 -0.607019  1.119959  2.598308 -0.126180  0.332458 -0.248375 -0.091709   \n",
       "2  1.856182 -0.983167  1.992344 -0.031497  1.166718 -0.052177 -0.034393   \n",
       "3  1.856182 -0.914719  1.055362 -0.066272  0.161217 -0.052924 -0.065168   \n",
       "4  1.856182 -0.906991  0.012395 -0.116386  0.350248 -0.037428 -0.111659   \n",
       "\n",
       "          7    8  median_house_value  \n",
       "0  1.503619  0.0              452600  \n",
       "1  1.173069  0.0              358500  \n",
       "2  2.241139  0.0              352100  \n",
       "3  0.355181  0.0              341300  \n",
       "4  0.674544  0.0              342200  "
      ]
     },
     "execution_count": 15,
     "metadata": {},
     "output_type": "execute_result"
    }
   ],
   "source": [
    "transformed_df.head()"
   ]
  },
  {
   "cell_type": "code",
   "execution_count": 16,
   "metadata": {},
   "outputs": [
    {
     "data": {
      "text/plain": [
       "10"
      ]
     },
     "execution_count": 16,
     "metadata": {},
     "output_type": "execute_result"
    }
   ],
   "source": [
    "transformed_df.shape[1]"
   ]
  },
  {
   "cell_type": "markdown",
   "metadata": {},
   "source": [
    "Apply PCA"
   ]
  },
  {
   "cell_type": "code",
   "execution_count": 17,
   "metadata": {},
   "outputs": [],
   "source": [
    "def apply_pca(dataframe, target):\n",
    "    df = dataframe.drop([target], axis =1)\n",
    "    num_features = df.shape[1]\n",
    "\n",
    "    #initialize pca\n",
    "    pca = PCA(n_components=num_features, random_state=360)\n",
    "\n",
    "    #fit pca\n",
    "    pca_array = pca.fit_transform(df)\n",
    "    pca_df = pd.DataFrame(data= pca_array)\n",
    "    pca_df[target] = dataframe[target]\n",
    "\n",
    "    cumulative_variance = np.cumsum(pca.explained_variance_ratio_)\n",
    "    # create the scree plot\n",
    "    plt.figure(figsize = (8,6))\n",
    "    plt.plot(range(1, len(cumulative_variance) + 1), cumulative_variance, marker = 'o', linestyle = '-')\n",
    "    plt.title('Scree Plot of Cumulative Explained Variance')\n",
    "    plt.xlabel('Number of Principal Components')\n",
    "    plt.ylabel('Cumulative Explained Variance')\n",
    "    plt.grid()\n",
    "    plt.show()\n",
    "\n",
    "    return pca_df"
   ]
  },
  {
   "cell_type": "code",
   "execution_count": 18,
   "metadata": {},
   "outputs": [
    {
     "data": {
      "image/png": "[encoded data removed]",
      "text/plain": [
       "<Figure size 800x600 with 1 Axes>"
      ]
     },
     "metadata": {},
     "output_type": "display_data"
    }
   ],
   "source": [
    "pca_df  =apply_pca(transformed_df, \"median_house_value\")"
   ]
  },
  {
   "cell_type": "code",
   "execution_count": 19,
   "metadata": {},
   "outputs": [
    {
     "data": {
      "text/html": [
       "<div>\n",
       "<style scoped>\n",
       "    .dataframe tbody tr th:only-of-type {\n",
       "        vertical-align: middle;\n",
       "    }\n",
       "\n",
       "    .dataframe tbody tr th {\n",
       "        vertical-align: top;\n",
       "    }\n",
       "\n",
       "    .dataframe thead th {\n",
       "        text-align: right;\n",
       "    }\n",
       "</style>\n",
       "<table border=\"1\" class=\"dataframe\">\n",
       "  <thead>\n",
       "    <tr style=\"text-align: right;\">\n",
       "      <th></th>\n",
       "      <th>0</th>\n",
       "      <th>1</th>\n",
       "      <th>2</th>\n",
       "      <th>3</th>\n",
       "      <th>4</th>\n",
       "      <th>5</th>\n",
       "      <th>6</th>\n",
       "      <th>7</th>\n",
       "      <th>8</th>\n",
       "      <th>median_house_value</th>\n",
       "    </tr>\n",
       "  </thead>\n",
       "  <tbody>\n",
       "    <tr>\n",
       "      <th>0</th>\n",
       "      <td>2.218409</td>\n",
       "      <td>0.147544</td>\n",
       "      <td>-1.137919</td>\n",
       "      <td>-2.216777</td>\n",
       "      <td>0.371704</td>\n",
       "      <td>0.723039</td>\n",
       "      <td>0.380752</td>\n",
       "      <td>-0.077233</td>\n",
       "      <td>-0.000662</td>\n",
       "      <td>452600</td>\n",
       "    </tr>\n",
       "    <tr>\n",
       "      <th>1</th>\n",
       "      <td>2.072460</td>\n",
       "      <td>0.339149</td>\n",
       "      <td>-1.950284</td>\n",
       "      <td>0.440497</td>\n",
       "      <td>0.818440</td>\n",
       "      <td>0.899577</td>\n",
       "      <td>0.395716</td>\n",
       "      <td>-0.060965</td>\n",
       "      <td>0.019304</td>\n",
       "      <td>358500</td>\n",
       "    </tr>\n",
       "    <tr>\n",
       "      <th>2</th>\n",
       "      <td>2.439004</td>\n",
       "      <td>0.169504</td>\n",
       "      <td>-0.812763</td>\n",
       "      <td>-2.658655</td>\n",
       "      <td>1.034931</td>\n",
       "      <td>-0.302657</td>\n",
       "      <td>-0.036119</td>\n",
       "      <td>-0.008959</td>\n",
       "      <td>-0.024863</td>\n",
       "      <td>352100</td>\n",
       "    </tr>\n",
       "    <tr>\n",
       "      <th>3</th>\n",
       "      <td>0.428072</td>\n",
       "      <td>-0.116498</td>\n",
       "      <td>-0.085392</td>\n",
       "      <td>-2.127372</td>\n",
       "      <td>0.869542</td>\n",
       "      <td>0.339143</td>\n",
       "      <td>0.229363</td>\n",
       "      <td>-0.082658</td>\n",
       "      <td>-0.002499</td>\n",
       "      <td>341300</td>\n",
       "    </tr>\n",
       "    <tr>\n",
       "      <th>4</th>\n",
       "      <td>0.200498</td>\n",
       "      <td>-0.255207</td>\n",
       "      <td>0.285539</td>\n",
       "      <td>-1.983047</td>\n",
       "      <td>0.724319</td>\n",
       "      <td>-0.481809</td>\n",
       "      <td>-0.310887</td>\n",
       "      <td>0.035746</td>\n",
       "      <td>-0.011931</td>\n",
       "      <td>342200</td>\n",
       "    </tr>\n",
       "  </tbody>\n",
       "</table>\n",
       "</div>"
      ],
      "text/plain": [
       "          0         1         2         3         4         5         6  \\\n",
       "0  2.218409  0.147544 -1.137919 -2.216777  0.371704  0.723039  0.380752   \n",
       "1  2.072460  0.339149 -1.950284  0.440497  0.818440  0.899577  0.395716   \n",
       "2  2.439004  0.169504 -0.812763 -2.658655  1.034931 -0.302657 -0.036119   \n",
       "3  0.428072 -0.116498 -0.085392 -2.127372  0.869542  0.339143  0.229363   \n",
       "4  0.200498 -0.255207  0.285539 -1.983047  0.724319 -0.481809 -0.310887   \n",
       "\n",
       "          7         8  median_house_value  \n",
       "0 -0.077233 -0.000662              452600  \n",
       "1 -0.060965  0.019304              358500  \n",
       "2 -0.008959 -0.024863              352100  \n",
       "3 -0.082658 -0.002499              341300  \n",
       "4  0.035746 -0.011931              342200  "
      ]
     },
     "execution_count": 19,
     "metadata": {},
     "output_type": "execute_result"
    }
   ],
   "source": [
    "pca_df.head()"
   ]
  },
  {
   "cell_type": "code",
   "execution_count": 20,
   "metadata": {},
   "outputs": [],
   "source": [
    "pca_df = pca_df.drop(pca_df.columns[6:9],axis = 1)"
   ]
  },
  {
   "cell_type": "code",
   "execution_count": 21,
   "metadata": {},
   "outputs": [
    {
     "data": {
      "text/html": [
       "<div>\n",
       "<style scoped>\n",
       "    .dataframe tbody tr th:only-of-type {\n",
       "        vertical-align: middle;\n",
       "    }\n",
       "\n",
       "    .dataframe tbody tr th {\n",
       "        vertical-align: top;\n",
       "    }\n",
       "\n",
       "    .dataframe thead th {\n",
       "        text-align: right;\n",
       "    }\n",
       "</style>\n",
       "<table border=\"1\" class=\"dataframe\">\n",
       "  <thead>\n",
       "    <tr style=\"text-align: right;\">\n",
       "      <th></th>\n",
       "      <th>0</th>\n",
       "      <th>1</th>\n",
       "      <th>2</th>\n",
       "      <th>3</th>\n",
       "      <th>4</th>\n",
       "      <th>5</th>\n",
       "      <th>median_house_value</th>\n",
       "    </tr>\n",
       "  </thead>\n",
       "  <tbody>\n",
       "    <tr>\n",
       "      <th>0</th>\n",
       "      <td>2.218409</td>\n",
       "      <td>0.147544</td>\n",
       "      <td>-1.137919</td>\n",
       "      <td>-2.216777</td>\n",
       "      <td>0.371704</td>\n",
       "      <td>0.723039</td>\n",
       "      <td>452600</td>\n",
       "    </tr>\n",
       "    <tr>\n",
       "      <th>1</th>\n",
       "      <td>2.072460</td>\n",
       "      <td>0.339149</td>\n",
       "      <td>-1.950284</td>\n",
       "      <td>0.440497</td>\n",
       "      <td>0.818440</td>\n",
       "      <td>0.899577</td>\n",
       "      <td>358500</td>\n",
       "    </tr>\n",
       "    <tr>\n",
       "      <th>2</th>\n",
       "      <td>2.439004</td>\n",
       "      <td>0.169504</td>\n",
       "      <td>-0.812763</td>\n",
       "      <td>-2.658655</td>\n",
       "      <td>1.034931</td>\n",
       "      <td>-0.302657</td>\n",
       "      <td>352100</td>\n",
       "    </tr>\n",
       "    <tr>\n",
       "      <th>3</th>\n",
       "      <td>0.428072</td>\n",
       "      <td>-0.116498</td>\n",
       "      <td>-0.085392</td>\n",
       "      <td>-2.127372</td>\n",
       "      <td>0.869542</td>\n",
       "      <td>0.339143</td>\n",
       "      <td>341300</td>\n",
       "    </tr>\n",
       "    <tr>\n",
       "      <th>4</th>\n",
       "      <td>0.200498</td>\n",
       "      <td>-0.255207</td>\n",
       "      <td>0.285539</td>\n",
       "      <td>-1.983047</td>\n",
       "      <td>0.724319</td>\n",
       "      <td>-0.481809</td>\n",
       "      <td>342200</td>\n",
       "    </tr>\n",
       "  </tbody>\n",
       "</table>\n",
       "</div>"
      ],
      "text/plain": [
       "          0         1         2         3         4         5  \\\n",
       "0  2.218409  0.147544 -1.137919 -2.216777  0.371704  0.723039   \n",
       "1  2.072460  0.339149 -1.950284  0.440497  0.818440  0.899577   \n",
       "2  2.439004  0.169504 -0.812763 -2.658655  1.034931 -0.302657   \n",
       "3  0.428072 -0.116498 -0.085392 -2.127372  0.869542  0.339143   \n",
       "4  0.200498 -0.255207  0.285539 -1.983047  0.724319 -0.481809   \n",
       "\n",
       "   median_house_value  \n",
       "0              452600  \n",
       "1              358500  \n",
       "2              352100  \n",
       "3              341300  \n",
       "4              342200  "
      ]
     },
     "execution_count": 21,
     "metadata": {},
     "output_type": "execute_result"
    }
   ],
   "source": [
    "pca_df.head()"
   ]
  },
  {
   "cell_type": "code",
   "execution_count": 22,
   "metadata": {},
   "outputs": [],
   "source": [
    "def plot_corr(df):\n",
    "    corr_matrix = df.corr()\n",
    "\n",
    "    # Create a mask for the upper triangle\n",
    "    mask = np.triu(np.ones_like(df.corr(), dtype=bool))\n",
    "    sns.heatmap(corr_matrix, cmap = \"viridis\", annot = True, fmt = \".2f\", mask = mask)\n",
    "    plt.title(\"correlation for numerical features\")\n",
    "    plt.show()"
   ]
  },
  {
   "cell_type": "code",
   "execution_count": 23,
   "metadata": {},
   "outputs": [
    {
     "data": {
      "image/png": "[encoded data removed]",
      "text/plain": [
       "<Figure size 640x480 with 2 Axes>"
      ]
     },
     "metadata": {},
     "output_type": "display_data"
    }
   ],
   "source": [
    "plot_corr(pca_df)"
   ]
  },
  {
   "cell_type": "code",
   "execution_count": null,
   "metadata": {},
   "outputs": [],
   "source": []
  },
  {
   "cell_type": "markdown",
   "metadata": {},
   "source": [
    "# Modeling"
   ]
  },
  {
   "cell_type": "code",
   "execution_count": 24,
   "metadata": {},
   "outputs": [],
   "source": [
    "from sklearn.model_selection import train_test_split"
   ]
  },
  {
   "cell_type": "code",
   "execution_count": 25,
   "metadata": {},
   "outputs": [],
   "source": [
    "Train_df, Test_df = train_test_split(pca_df, test_size = 0.2, random_state=360)"
   ]
  },
  {
   "cell_type": "code",
   "execution_count": 26,
   "metadata": {},
   "outputs": [],
   "source": [
    "Train_df, Test_df = Train_df.reset_index(drop=True), Test_df.reset_index(drop = True)"
   ]
  },
  {
   "cell_type": "code",
   "execution_count": 27,
   "metadata": {},
   "outputs": [
    {
     "data": {
      "text/plain": [
       "((16512, 7), (4128, 7))"
      ]
     },
     "execution_count": 27,
     "metadata": {},
     "output_type": "execute_result"
    }
   ],
   "source": [
    "Train_df.shape, Test_df.shape"
   ]
  },
  {
   "cell_type": "markdown",
   "metadata": {},
   "source": [
    "Create Baseline model"
   ]
  },
  {
   "cell_type": "code",
   "execution_count": 28,
   "metadata": {},
   "outputs": [],
   "source": [
    "from sklearn.model_selection import cross_val_score\n",
    "from sklearn.metrics import mean_squared_error, mean_absolute_error, r2_score\n",
    "from sklearn.linear_model import LinearRegression, Lasso, Ridge\n",
    "from sklearn.tree import DecisionTreeRegressor\n",
    "from sklearn.ensemble import RandomForestRegressor"
   ]
  },
  {
   "cell_type": "code",
   "execution_count": 29,
   "metadata": {},
   "outputs": [],
   "source": [
    "def cross_validate_regression_models(df, target, cv =3):\n",
    "    X = df.drop([target], axis = 1)\n",
    "    y = df[target]\n",
    "\n",
    "    models = {\n",
    "        'Linear Regression': LinearRegression(),\n",
    "        'Lasso': Lasso(),\n",
    "        'Ridge': Ridge(),\n",
    "        'Decision Tree': DecisionTreeRegressor(),\n",
    "        'Random Forest': RandomForestRegressor()\n",
    "    }\n",
    "    results = {}\n",
    "\n",
    "    for name, model in models.items():\n",
    "        scores_rmse = cross_val_score(model,X, y, cv= cv, scoring = 'neg_root_mean_squared_error')\n",
    "        scores_mae = cross_val_score(model, X, y, cv=cv, scoring='neg_mean_absolute_error')\n",
    "        scores_r2 = cross_val_score(model, X, y, cv=cv, scoring='r2')\n",
    "\n",
    "        rmse_mean = -scores_rmse.mean()\n",
    "        mae_mean = -scores_mae.mean()\n",
    "        r2_mean = scores_r2.mean()\n",
    "\n",
    "        print(f\"reult for {name}\")\n",
    "        print(f\"RMSE: {rmse_mean}, MAE: {mae_mean}, R-squared: {r2_mean}\")\n",
    "\n",
    "        results[name] = {\"RMSE\": rmse_mean, \"MAE\": mae_mean, \"R-squred\":r2_mean}\n",
    "\n",
    "    return pd.DataFrame(results).T\n"
   ]
  },
  {
   "cell_type": "code",
   "execution_count": 30,
   "metadata": {},
   "outputs": [
    {
     "data": {
      "text/html": [
       "<div>\n",
       "<style scoped>\n",
       "    .dataframe tbody tr th:only-of-type {\n",
       "        vertical-align: middle;\n",
       "    }\n",
       "\n",
       "    .dataframe tbody tr th {\n",
       "        vertical-align: top;\n",
       "    }\n",
       "\n",
       "    .dataframe thead th {\n",
       "        text-align: right;\n",
       "    }\n",
       "</style>\n",
       "<table border=\"1\" class=\"dataframe\">\n",
       "  <thead>\n",
       "    <tr style=\"text-align: right;\">\n",
       "      <th></th>\n",
       "      <th>0</th>\n",
       "      <th>1</th>\n",
       "      <th>2</th>\n",
       "      <th>3</th>\n",
       "      <th>4</th>\n",
       "      <th>5</th>\n",
       "      <th>median_house_value</th>\n",
       "    </tr>\n",
       "  </thead>\n",
       "  <tbody>\n",
       "    <tr>\n",
       "      <th>0</th>\n",
       "      <td>0.329882</td>\n",
       "      <td>-0.146088</td>\n",
       "      <td>-0.185793</td>\n",
       "      <td>-0.292456</td>\n",
       "      <td>-0.208890</td>\n",
       "      <td>-0.500391</td>\n",
       "      <td>181400</td>\n",
       "    </tr>\n",
       "    <tr>\n",
       "      <th>1</th>\n",
       "      <td>-0.738677</td>\n",
       "      <td>-0.274944</td>\n",
       "      <td>0.031799</td>\n",
       "      <td>0.389751</td>\n",
       "      <td>-0.794240</td>\n",
       "      <td>1.410600</td>\n",
       "      <td>238900</td>\n",
       "    </tr>\n",
       "    <tr>\n",
       "      <th>2</th>\n",
       "      <td>0.830108</td>\n",
       "      <td>0.361361</td>\n",
       "      <td>-0.706215</td>\n",
       "      <td>1.310852</td>\n",
       "      <td>-0.067290</td>\n",
       "      <td>-0.382307</td>\n",
       "      <td>164800</td>\n",
       "    </tr>\n",
       "    <tr>\n",
       "      <th>3</th>\n",
       "      <td>-0.031132</td>\n",
       "      <td>0.226866</td>\n",
       "      <td>-0.435291</td>\n",
       "      <td>-0.248987</td>\n",
       "      <td>0.667356</td>\n",
       "      <td>0.164928</td>\n",
       "      <td>173600</td>\n",
       "    </tr>\n",
       "    <tr>\n",
       "      <th>4</th>\n",
       "      <td>-2.791851</td>\n",
       "      <td>0.040000</td>\n",
       "      <td>0.708036</td>\n",
       "      <td>0.452605</td>\n",
       "      <td>2.193852</td>\n",
       "      <td>0.202237</td>\n",
       "      <td>243800</td>\n",
       "    </tr>\n",
       "    <tr>\n",
       "      <th>...</th>\n",
       "      <td>...</td>\n",
       "      <td>...</td>\n",
       "      <td>...</td>\n",
       "      <td>...</td>\n",
       "      <td>...</td>\n",
       "      <td>...</td>\n",
       "      <td>...</td>\n",
       "    </tr>\n",
       "    <tr>\n",
       "      <th>16507</th>\n",
       "      <td>0.021606</td>\n",
       "      <td>0.222923</td>\n",
       "      <td>-0.405818</td>\n",
       "      <td>3.112330</td>\n",
       "      <td>1.023934</td>\n",
       "      <td>-1.007944</td>\n",
       "      <td>65600</td>\n",
       "    </tr>\n",
       "    <tr>\n",
       "      <th>16508</th>\n",
       "      <td>0.991679</td>\n",
       "      <td>0.048853</td>\n",
       "      <td>-0.470601</td>\n",
       "      <td>-1.803685</td>\n",
       "      <td>0.514011</td>\n",
       "      <td>-0.679719</td>\n",
       "      <td>318500</td>\n",
       "    </tr>\n",
       "    <tr>\n",
       "      <th>16509</th>\n",
       "      <td>-0.317250</td>\n",
       "      <td>0.036268</td>\n",
       "      <td>0.118501</td>\n",
       "      <td>0.003526</td>\n",
       "      <td>-0.259234</td>\n",
       "      <td>-0.308022</td>\n",
       "      <td>123400</td>\n",
       "    </tr>\n",
       "    <tr>\n",
       "      <th>16510</th>\n",
       "      <td>-1.018979</td>\n",
       "      <td>-0.121004</td>\n",
       "      <td>0.600108</td>\n",
       "      <td>0.016578</td>\n",
       "      <td>-0.404633</td>\n",
       "      <td>-0.706660</td>\n",
       "      <td>55500</td>\n",
       "    </tr>\n",
       "    <tr>\n",
       "      <th>16511</th>\n",
       "      <td>1.050406</td>\n",
       "      <td>0.443140</td>\n",
       "      <td>-1.019396</td>\n",
       "      <td>2.076728</td>\n",
       "      <td>0.060354</td>\n",
       "      <td>-0.787812</td>\n",
       "      <td>162800</td>\n",
       "    </tr>\n",
       "  </tbody>\n",
       "</table>\n",
       "<p>16512 rows × 7 columns</p>\n",
       "</div>"
      ],
      "text/plain": [
       "              0         1         2         3         4         5  \\\n",
       "0      0.329882 -0.146088 -0.185793 -0.292456 -0.208890 -0.500391   \n",
       "1     -0.738677 -0.274944  0.031799  0.389751 -0.794240  1.410600   \n",
       "2      0.830108  0.361361 -0.706215  1.310852 -0.067290 -0.382307   \n",
       "3     -0.031132  0.226866 -0.435291 -0.248987  0.667356  0.164928   \n",
       "4     -2.791851  0.040000  0.708036  0.452605  2.193852  0.202237   \n",
       "...         ...       ...       ...       ...       ...       ...   \n",
       "16507  0.021606  0.222923 -0.405818  3.112330  1.023934 -1.007944   \n",
       "16508  0.991679  0.048853 -0.470601 -1.803685  0.514011 -0.679719   \n",
       "16509 -0.317250  0.036268  0.118501  0.003526 -0.259234 -0.308022   \n",
       "16510 -1.018979 -0.121004  0.600108  0.016578 -0.404633 -0.706660   \n",
       "16511  1.050406  0.443140 -1.019396  2.076728  0.060354 -0.787812   \n",
       "\n",
       "       median_house_value  \n",
       "0                  181400  \n",
       "1                  238900  \n",
       "2                  164800  \n",
       "3                  173600  \n",
       "4                  243800  \n",
       "...                   ...  \n",
       "16507               65600  \n",
       "16508              318500  \n",
       "16509              123400  \n",
       "16510               55500  \n",
       "16511              162800  \n",
       "\n",
       "[16512 rows x 7 columns]"
      ]
     },
     "execution_count": 30,
     "metadata": {},
     "output_type": "execute_result"
    }
   ],
   "source": [
    "Train_df"
   ]
  },
  {
   "cell_type": "code",
   "execution_count": 31,
   "metadata": {},
   "outputs": [
    {
     "name": "stdout",
     "output_type": "stream",
     "text": [
      "reult for Linear Regression\n",
      "RMSE: 73102.84815927975, MAE: 53224.484751667864, R-squared: 0.6034602163704047\n",
      "reult for Lasso\n",
      "RMSE: 73102.87322940816, MAE: 53224.567477734265, R-squared: 0.6034599253290677\n",
      "reult for Ridge\n",
      "RMSE: 73102.68942005721, MAE: 53225.03453544271, R-squared: 0.6034617837398372\n",
      "reult for Decision Tree\n",
      "RMSE: 89328.7352649098, MAE: 61543.437560562015, R-squared: 0.4104978952845319\n",
      "reult for Random Forest\n",
      "RMSE: 63276.20718469783, MAE: 44844.66965479651, R-squared: 0.7039510155320222\n"
     ]
    }
   ],
   "source": [
    "result = cross_validate_regression_models(Train_df, \"median_house_value\")"
   ]
  },
  {
   "cell_type": "code",
   "execution_count": 32,
   "metadata": {},
   "outputs": [
    {
     "data": {
      "text/html": [
       "<div>\n",
       "<style scoped>\n",
       "    .dataframe tbody tr th:only-of-type {\n",
       "        vertical-align: middle;\n",
       "    }\n",
       "\n",
       "    .dataframe tbody tr th {\n",
       "        vertical-align: top;\n",
       "    }\n",
       "\n",
       "    .dataframe thead th {\n",
       "        text-align: right;\n",
       "    }\n",
       "</style>\n",
       "<table border=\"1\" class=\"dataframe\">\n",
       "  <thead>\n",
       "    <tr style=\"text-align: right;\">\n",
       "      <th></th>\n",
       "      <th>RMSE</th>\n",
       "      <th>MAE</th>\n",
       "      <th>R-squred</th>\n",
       "    </tr>\n",
       "  </thead>\n",
       "  <tbody>\n",
       "    <tr>\n",
       "      <th>Linear Regression</th>\n",
       "      <td>73102.848159</td>\n",
       "      <td>53224.484752</td>\n",
       "      <td>0.603460</td>\n",
       "    </tr>\n",
       "    <tr>\n",
       "      <th>Lasso</th>\n",
       "      <td>73102.873229</td>\n",
       "      <td>53224.567478</td>\n",
       "      <td>0.603460</td>\n",
       "    </tr>\n",
       "    <tr>\n",
       "      <th>Ridge</th>\n",
       "      <td>73102.689420</td>\n",
       "      <td>53225.034535</td>\n",
       "      <td>0.603462</td>\n",
       "    </tr>\n",
       "    <tr>\n",
       "      <th>Decision Tree</th>\n",
       "      <td>89328.735265</td>\n",
       "      <td>61543.437561</td>\n",
       "      <td>0.410498</td>\n",
       "    </tr>\n",
       "    <tr>\n",
       "      <th>Random Forest</th>\n",
       "      <td>63276.207185</td>\n",
       "      <td>44844.669655</td>\n",
       "      <td>0.703951</td>\n",
       "    </tr>\n",
       "  </tbody>\n",
       "</table>\n",
       "</div>"
      ],
      "text/plain": [
       "                           RMSE           MAE  R-squred\n",
       "Linear Regression  73102.848159  53224.484752  0.603460\n",
       "Lasso              73102.873229  53224.567478  0.603460\n",
       "Ridge              73102.689420  53225.034535  0.603462\n",
       "Decision Tree      89328.735265  61543.437561  0.410498\n",
       "Random Forest      63276.207185  44844.669655  0.703951"
      ]
     },
     "execution_count": 32,
     "metadata": {},
     "output_type": "execute_result"
    }
   ],
   "source": [
    "result"
   ]
  },
  {
   "cell_type": "markdown",
   "metadata": {},
   "source": [
    "**interpretation**\n",
    "\n",
    "our target feature has a minimum of 14,999 and max of 500,000. A standard deviation of 115,395.\n",
    "\n",
    "our best baseline model has \n",
    "\n",
    "    - RMSE: 63,127\n",
    "    This means that, on average, your model's predictions are off by approximately 13% of the range of your target variable.\n",
    " \n",
    "    - R_squared:0.70\n",
    "    This means that your model explains approximately 70% of the variance in the target variable\n",
    "\n",
    "\n",
    "\n"
   ]
  },
  {
   "cell_type": "code",
   "execution_count": null,
   "metadata": {},
   "outputs": [],
   "source": []
  },
  {
   "cell_type": "markdown",
   "metadata": {},
   "source": [
    "Improve baseline model"
   ]
  },
  {
   "cell_type": "code",
   "execution_count": 33,
   "metadata": {},
   "outputs": [],
   "source": [
    "from scipy.stats import randint\n",
    "from sklearn.model_selection import RandomizedSearchCV"
   ]
  },
  {
   "cell_type": "code",
   "execution_count": 34,
   "metadata": {},
   "outputs": [],
   "source": [
    "def tune_model(df, target):\n",
    "    X_train = df.drop([target], axis =1)\n",
    "    y_train = df[target]\n",
    "\n",
    "    param_dist = {\n",
    "    'n_estimators': randint(50, 150),  # Number of trees in the forest\n",
    "    'max_features': ['auto', 'sqrt', 'log2'],  # Number of features to consider at each split\n",
    "    'max_depth': randint(10, 50),  # Maximum depth of the tree\n",
    "    'min_samples_split': randint(2, 20),  # Minimum number of samples required to split an internal node\n",
    "    'min_samples_leaf': randint(1, 20),  # Minimum number of samples required to be at a leaf node\n",
    "    'bootstrap': [True, False]  # Method of selecting samples for training each tree\n",
    "}\n",
    "    \n",
    "    # Instantiate the Random Fores Regressor\n",
    "    rf = RandomForestRegressor()\n",
    "\n",
    "    random_search = RandomizedSearchCV(estimator=rf, param_distributions=param_dist,n_iter=10, cv =5, random_state=350)\n",
    "\n",
    "    random_search.fit(X_train, y_train)\n",
    "\n",
    "    best_param = random_search.best_params_\n",
    "    best_score = random_search.best_score_\n",
    "\n",
    "    return best_param, best_score"
   ]
  },
  {
   "cell_type": "code",
   "execution_count": 35,
   "metadata": {},
   "outputs": [],
   "source": [
    "best_param, best_score = tune_model(Train_df, \"median_house_value\")"
   ]
  },
  {
   "cell_type": "code",
   "execution_count": 36,
   "metadata": {},
   "outputs": [
    {
     "data": {
      "text/plain": [
       "0.7037650071277957"
      ]
     },
     "execution_count": 36,
     "metadata": {},
     "output_type": "execute_result"
    }
   ],
   "source": [
    "best_score"
   ]
  },
  {
   "cell_type": "code",
   "execution_count": 37,
   "metadata": {},
   "outputs": [
    {
     "data": {
      "text/plain": [
       "{'bootstrap': True,\n",
       " 'max_depth': 17,\n",
       " 'max_features': 'sqrt',\n",
       " 'min_samples_leaf': 4,\n",
       " 'min_samples_split': 10,\n",
       " 'n_estimators': 107}"
      ]
     },
     "execution_count": 37,
     "metadata": {},
     "output_type": "execute_result"
    }
   ],
   "source": [
    "best_param"
   ]
  },
  {
   "cell_type": "code",
   "execution_count": 38,
   "metadata": {},
   "outputs": [],
   "source": [
    "def train_final_model(train, test, target, param):\n",
    "\n",
    "    X_train = train.drop([target], axis =1)\n",
    "    y_train = train[target]\n",
    "\n",
    "    X_test = test.drop([target], axis =1)\n",
    "    y_test = test[target]\n",
    "\n",
    "    rf = RandomForestRegressor(**param)\n",
    "    model = rf.fit(X_train, y_train)\n",
    "\n",
    "    y_train_pred = model.predict(X_train)\n",
    "    y_test_pred = model.predict(X_test)\n",
    "    \n",
    "    #calculate RMSE for train and test\n",
    "    train_rsme = np.sqrt(mean_squared_error(y_train, y_train_pred))\n",
    "    test_rmse = np.sqrt(mean_squared_error(y_test, y_test_pred))\n",
    "\n",
    "    # calculte R2\n",
    "    train_r2 = r2_score(y_train, y_train_pred)\n",
    "    test_r2 = r2_score(y_test, y_test_pred)\n",
    "\n",
    "    print(f\"train RMSE: {train_rsme}, test RMSE: {test_rmse}\\n\"\n",
    "          f\"train_r2: {train_r2}, test_r2: {test_r2}\")\n"
   ]
  },
  {
   "cell_type": "code",
   "execution_count": 39,
   "metadata": {},
   "outputs": [
    {
     "name": "stdout",
     "output_type": "stream",
     "text": [
      "train RMSE: 45050.74460274498, test RMSE: 59807.592543993254\n",
      "train_r2: 0.8495148813388165, test_r2: 0.7162996100938054\n"
     ]
    }
   ],
   "source": [
    "train_final_model(Train_df, Test_df, \"median_house_value\", best_param)"
   ]
  },
  {
   "cell_type": "code",
   "execution_count": null,
   "metadata": {},
   "outputs": [],
   "source": []
  }
 ],
 "metadata": {
  "kernelspec": {
   "display_name": "Python 3",
   "language": "python",
   "name": "python3"
  },
  "language_info": {
   "codemirror_mode": {
    "name": "ipython",
    "version": 3
   },
   "file_extension": ".py",
   "mimetype": "text/x-python",
   "name": "python",
   "nbconvert_exporter": "python",
   "pygments_lexer": "ipython3",
   "version": "3.8.18"
  }
 },
 "nbformat": 4,
 "nbformat_minor": 2
}
